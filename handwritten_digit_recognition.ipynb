{
 "cells": [
  {
   "cell_type": "markdown",
   "metadata": {},
   "source": [
    "# Handwritten Digit Recognition using Convolutional Neural Networks in Python with Keras\n",
    "The following implementation of the model is mostly taken from the tutorial available [here]( https://machinelearningmastery.com/how-to-develop-a-convolutional-neural-network-from-scratch-for-mnist-handwritten-digit-classification/). \n",
    "</br>\n",
    "\n",
    "The [Modified National Institute of Standards and Technology dataset](http://yann.lecun.com/exdb/mnist/) __(MNIST)__ handwritten digit classification problem is a standard dataset used in computer vision and deep learning. The dataset can be used as the basis for learning and practicing how to develop, evaluate, and use Convolutional Neural Networks __(CNN)__ for image classification.  \n",
    "</br>\n",
    "\n",
    "__Objective__: classify a given image of a handwritten digit into one of 10 classes representing integer values from 0 to 9 inclusively."
   ]
  },
  {
   "cell_type": "markdown",
   "metadata": {},
   "source": [
    "### 1) MNIST Handwritten Digit Classification Dataset\n",
    "The MNIST dataset is made up of 70,000  examples. The dataset is comprised by small square 28x28 pixel grayscale images of handwritten single digits between 0 to 9."
   ]
  },
  {
   "cell_type": "markdown",
   "metadata": {},
   "source": [
    "#### 1.1 Load the MNIST dataset and plot the first nine images"
   ]
  },
  {
   "cell_type": "code",
   "execution_count": 28,
   "metadata": {},
   "outputs": [],
   "source": [
    "from numpy import mean\n",
    "from numpy import std\n",
    "from keras.datasets import mnist\n",
    "from keras.layers import BatchNormalization\n",
    "from keras.layers import Conv2D\n",
    "from keras.layers import Dense\n",
    "from keras.layers import Flatten\n",
    "from keras.layers import MaxPooling2D\n",
    "from keras.models import load_model\n",
    "from keras.models import Sequential\n",
    "from keras.optimizers import SGD\n",
    "from keras.utils import to_categorical\n",
    "from sklearn.model_selection import KFold\n",
    "import  matplotlib.pyplot as plt\n",
    "\n",
    "# load dataset\n",
    "(trainX, trainY), (testX, testY)=mnist.load_data()"
   ]
  },
  {
   "cell_type": "code",
   "execution_count": 29,
   "metadata": {},
   "outputs": [
    {
     "name": "stdout",
     "output_type": "stream",
     "text": [
      "Training set: X=(60000, 28, 28), Y=(60000,)\n",
      "Test set: X=(10000, 28, 28), Y=(10000,)\n"
     ]
    }
   ],
   "source": [
    " \n",
    "# Show dataset characteristics\n",
    "print('Training set: X=%s, Y=%s' % (trainX.shape, trainY.shape))\n",
    "print('Test set: X=%s, Y=%s' % (testX.shape, testY.shape))"
   ]
  },
  {
   "cell_type": "markdown",
   "metadata": {},
   "source": [
    "From the results above it is possible to conclude that there are 60,000 examples in the training dataset and 10,000 examples in the test dataset"
   ]
  },
  {
   "cell_type": "code",
   "execution_count": 30,
   "metadata": {},
   "outputs": [
    {
     "data": {
      "image/png": "[encoded data removed]",
      "text/plain": [
       "<Figure size 432x288 with 9 Axes>"
      ]
     },
     "metadata": {
      "needs_background": "light"
     },
     "output_type": "display_data"
    }
   ],
   "source": [
    "fig, axes = plt.subplots(nrows=3, ncols=3)\n",
    "ax = axes.ravel()\n",
    "\n",
    "# Plot the first ten images in the dataset\n",
    "for i in range(9):\n",
    "    # plot raw pixel data\n",
    "    ax[i].imshow(trainX[i], cmap = 'gray')\n",
    "\n",
    "# show the figure\n",
    "plt.tight_layout()\n",
    "plt.show()"
   ]
  },
  {
   "cell_type": "markdown",
   "metadata": {},
   "source": [
    "### 2) Model Evaluation Methodology\n",
    "__MNIST__ is a useful starting point for developing and practicing a methology for solving image classification tasks using __CNN__. "
   ]
  },
  {
   "cell_type": "markdown",
   "metadata": {},
   "source": [
    "#### 2.1 Validation dataset\n",
    "In order to estimate the performance of a model for a given training run it is feasible to split the training set into a train and validation dataset.  \n",
    "Performance on the train and validation dataset over each run can be plotted to provide learning curves and insight into how well a model is learning the problem.  \n",
    "__Keras API__ supports this by specifying the *validation_data* argument to the *model.fit()* function when training the model. This returns an object that describes model performance for the chosen loss and metrics on each training epoch."
   ]
  },
  {
   "cell_type": "markdown",
   "metadata": {},
   "source": [
    "#### 2.2 Cross Validation \n",
    "According to this [tutorial](https://machinelearningmastery.com/k-fold-cross-validation/), In order to estimate the performance of a model on the problem in general, it is viable to use *k-fold cross-validation*.  \n",
    "__k-fold cross-validation__ is a statistical method used to estimate the skill of Machine Learning models. It is commonly used to compare and select a model for a given predictive modeling problem because it is easy to understand and implement and results in skill estimates that generally have a lower bias than other methods. It uses  a limited sample in order to estimate how the model is expected to perform in general when used to make predictions on data not adopted during the training of the model. Its only parameter is *k* which represents the number of groups that a given data sample is to be split into.  \n",
    "This method works by dividing the data into folds and [ensuring that each fold is used as a testing set](https://medium.com/datadriveninvestor/k-fold-cross-validation-6b8518070833) at some point.  \n",
    "    &nbsp;&nbsp;&nbsp;&nbsp;__PROCEDURE:__  \n",
    "    &nbsp;&nbsp;&nbsp;&nbsp;&nbsp;&nbsp;1) Shuffle the dataset randomly  \n",
    "    &nbsp;&nbsp;&nbsp;&nbsp;&nbsp;&nbsp;2) Split the dataset into k groups  \n",
    "    &nbsp;&nbsp;&nbsp;&nbsp;&nbsp;&nbsp;3) For each unique group:\n",
    "     1. Take the group as a hold out or test dataset  \n",
    "     2. Take the remaining groups as a training dataset\n",
    "     3. Fit a model on the training set and evaluate it on the test set\n",
    "     4. Retain the evaluation score and discard the model  \n",
    " &nbsp; &nbsp; &nbsp; &nbsp;4) Summarize the skill of the model using the sample of model evaluation scores\n",
    " \n",
    " __Important:__ each observation in the data sample is assigned to an individual group and stays in that group for the duration of the procedure. This means that each sample is given the opportunity to be used in the test set 1 time and used to train the model k-1 times.\n",
    "    \n",
    "    "
   ]
  },
  {
   "cell_type": "markdown",
   "metadata": {},
   "source": [
    "*\"This approach involves randomly dividing the set of observations into k groups, or folds, of approximately equal size. The first fold is treated as a validation set, and the method is fit on the remaining k-1 folds\"*\n",
    "[An introduction to Statistical Learning](https://www.amazon.com/Introduction-Statistical-Learning-Applications-Statistics/dp/1461471370/ref=as_li_ss_tl?_encoding=UTF8&pd_rd_i=1461471370&pd_rd_r=DB2D7SXCC6EFZ5MKNVK4&pd_rd_w=mz608&pd_rd_wg=PE5Zx&psc=1&refRID=DB2D7SXCC6EFZ5MKNVK4&linkCode=sl1&tag=inspiredalgor-20&linkId=1c22848a7baf8c3bed24b13800cf39e6)"
   ]
  },
  {
   "cell_type": "markdown",
   "metadata": {},
   "source": [
    "### 3) How to develop a Baseline Model\n",
    "The Baseline Model involves developing the infraestructure for the test harness so that any model we design can be evaluated on the dataset, and it establishes a baseline model performance on the problem, by which all improvements can be compared.\n"
   ]
  },
  {
   "cell_type": "markdown",
   "metadata": {},
   "source": [
    "#### 3.1 Prepare dataset\n",
    "Color images have height, width and color channel dimensions.  \n",
    "The images were previously loaded, and because of the known characteristics of the images available in the dataset, we can reshape the data arrays to have a single color channel. "
   ]
  },
  {
   "cell_type": "code",
   "execution_count": 31,
   "metadata": {},
   "outputs": [],
   "source": [
    "# Reshape the dataset to have a single channel\n",
    "trainX = trainX.reshape((trainX.shape[0],28,28,1))\n",
    "testX = testX.reshape((testX.shape[0],28,28,1))"
   ]
  },
  {
   "cell_type": "markdown",
   "metadata": {},
   "source": [
    "There are 10 classes that are represented as unique integers. Because of this it is possible to use a [one hot encoding](https://hackernoon.com/what-is-one-hot-encoding-why-and-when-do-you-have-to-use-it-e3c6186d008f) for the class element of each sample, transforming the integer into a 10 element binary vector with a 1 for the index of the class value, and 0 for the index of other classes. The *to_categorical()* utility function allows us to do it. "
   ]
  },
  {
   "cell_type": "code",
   "execution_count": 5,
   "metadata": {},
   "outputs": [],
   "source": [
    "# One hot encode target values\n",
    "trainY = to_categorical(trainY)\n",
    "testY = to_categorical(testY)"
   ]
  },
  {
   "cell_type": "markdown",
   "metadata": {},
   "source": [
    "Previous behaviours and data loading can be unified in a single *load_dataset()* function"
   ]
  },
  {
   "cell_type": "code",
   "execution_count": 32,
   "metadata": {},
   "outputs": [],
   "source": [
    "def load_dataset():\n",
    "    # Load dataset\n",
    "    (trainX, trainY), (testX, testY) = mnist.load_data()\n",
    "    # Reshape the dataset to have a single channel\n",
    "    trainX = trainX.reshape((trainX.shape[0],28,28,1))\n",
    "    testX = testX.reshape((testX.shape[0],28,28,1))\n",
    "    # One hot encode target values\n",
    "    trainY = to_categorical(trainY)\n",
    "    testY = to_categorical(testY)\n",
    "    return trainX, trainY, testX, testY"
   ]
  },
  {
   "cell_type": "markdown",
   "metadata": {},
   "source": [
    "#### 3.2 Prepare Pixel Data\n",
    "Pixel values for each image in the dataset are unsigned integers in the range between black and white, or 0 and 255. Although the best way to scale the pixel values for modeling is not known, it is clear that some scaling is required.    \n",
    "A good starting point is to normalize the pixel values of grayscale image, e.g. rescale them to the range [0,1]. To achieve the latter is is necessary to convert the data type from unsigned integers to floats and then divide the pixel values by the maximum value."
   ]
  },
  {
   "cell_type": "code",
   "execution_count": 7,
   "metadata": {},
   "outputs": [],
   "source": [
    "# Scale pixels\n",
    "def prep_pixels(train, test):\n",
    "    # Step1: convert from integers to floats\n",
    "    train_norm = train.astype('float32')\n",
    "    test_norm = test.astype('float32')\n",
    "    # Step2: normalize to range 0-1\n",
    "    train_norm = train_norm / 255.0\n",
    "    test_norm = test_norm / 255.0\n",
    "    # Step3: return normalized images\n",
    "    return train_norm, test_norm"
   ]
  },
  {
   "cell_type": "markdown",
   "metadata": {},
   "source": [
    "#### 3.3 Define Model\n",
    "The model has [__two main aspects:__](https://towardsdatascience.com/a-comprehensive-guide-to-convolutional-neural-networks-the-eli5-way-3bd2b1164a53) the feature extraction front end comprised of [convolutional](https://machinelearningmastery.com/convolutional-layers-for-deep-learning-neural-networks/) and [pooling layers](https://machinelearningmastery.com/pooling-layers-for-convolutional-neural-networks/), and the classifier backend that will make a prediction.  \n",
    "</br>\n",
    "\n",
    "__1.__ It can start with a single convolutional layer with a small filter size(3,3) and a modest number of filters (32) followed by a max pooling layer. The filter maps can then be flattened to provide features to the classifier.  \n",
    "__2.__ Because of the multiclass classification task problem, we require an output layer with 10 nodes in order to predict the probability distribution of an image belonging to each of the 10 classes, this will also require the use of a [softmax activation function](https://medium.com/data-science-bootcamp/understand-the-softmax-function-in-minutes-f3a59641e86d).  \n",
    "__3.__ Between the feature extractor and the output layer, we can add a dense later to interpret the features, in this case with 100 nodes.   \n",
    "__4.__ Use a conservative configuration for the [stochastic gradient descent optimizer](https://www.geeksforgeeks.org/ml-stochastic-gradient-descent-sgd/) with a learning rate of 0.01 and a momentum of 0.9. The categorical [cross-entropy loss function](https://ml-cheatsheet.readthedocs.io/en/latest/loss_functions.html) will be optimized, suitable for multi-class classification. We will monitor the classification accuracy metric, given we have the same number of examples in each of the 10 classes. \n",
    "\n",
    "__Note:__ All layers will use the [ReLu activation function](https://medium.com/tinymind/a-practical-guide-to-relu-b83ca804f1f7) and the [He weight initialization](https://medium.com/@prateekvishnu/xavier-and-he-normal-he-et-al-initialization-8e3d7a087528) scheme."
   ]
  },
  {
   "cell_type": "code",
   "execution_count": 33,
   "metadata": {},
   "outputs": [],
   "source": [
    "# Define CNN model\n",
    "def define_model():\n",
    "    # Sequential model: linear stack of layers\n",
    "    model = Sequential()\n",
    "    model.add(Conv2D(32,(3,3), activation = 'relu', kernel_initializer = 'he_uniform', input_shape = (28,28,1)))\n",
    "    model.add(MaxPooling2D(2,2))\n",
    "    model.add(Flatten())\n",
    "    model.add(Dense(100, activation = 'relu', kernel_initializer = 'he_uniform'))\n",
    "    model.add(Dense(10, activation = 'softmax'))\n",
    "    \n",
    "    # Compile Model\n",
    "    opt = SGD(lr = 0.01, momentum = 0.9)\n",
    "    model.compile(optimizer=opt, loss='categorical_crossentropy', metrics=['accuracy'])\n",
    "    return model"
   ]
  },
  {
   "cell_type": "markdown",
   "metadata": {},
   "source": [
    "#### 3.4 Evaluate Model\n",
    "The Model will be evaluated using five-fold cross-validation. Parameter *k=5* was chosen to provide a baseline for both repeated evaluation and to not be very large as to require a long running time.  \n",
    "Each test set will be 20% of the training dataset, or about 12,000 examples, close to the actual size of the test set for this problem.\n",
    "</br>\n",
    "\n",
    "The baseline model will be trained for a modest 10 training epochs with a default batch size of 32 examples. The test set for each fold will be used to evaluate the model both during each epoch for the training run, so that we can later create learning curves, and at the end of the run, so that we can estimate the performance of the model.  \n"
   ]
  },
  {
   "cell_type": "code",
   "execution_count": 9,
   "metadata": {},
   "outputs": [],
   "source": [
    "# Evaluate a model using k-fold cross-validation\n",
    "def evaluate_model(model, dataX, dataY, n_folds=5):\n",
    "    scores, histories = list(), list()\n",
    "    # Prepare cross validation\n",
    "    kfold = KFold(n_folds, shuffle = True, random_state = 1)\n",
    "    \n",
    "    # Enumerate splits\n",
    "    for train_ix, test_ix in kfold.split(dataX):\n",
    "        # select rows for train and test\n",
    "        trainX, trainY, testX, testY = dataX[train_ix], dataY[train_ix], dataX[test_ix], dataY[test_ix]\n",
    "        # fit model, verbose modified to 1 to view the progress bar\n",
    "        history = model.fit(trainX, trainY, epochs = 10,batch_size = 32, validation_data = (testX, testY), verbose = 1)\n",
    "        # evaluate model\n",
    "        _, acc = model.evaluate(testX, testY, verbose = 1)\n",
    "        print('> %.3f' % (acc * 100.0))\n",
    "        # stores scores\n",
    "        scores.append(acc)\n",
    "        histories.append(history)\n",
    "    return scores, histories\n",
    "        "
   ]
  },
  {
   "cell_type": "markdown",
   "metadata": {},
   "source": [
    "#### 3.5 Present Results\n",
    "There are two key aspects to present: the diagnostics of the learning behaviour of the model during training and the estimation of the model performance. These can be implemented in different functions.\n",
    "</br>\n",
    "\n",
    "The __diagnostics__ will show the model performance on the train and test set during each fold of the k-fold cross-validation. *Blue lines* indicate model performance on the training dataset and *orange lines* will indicate performance on the test dataset. "
   ]
  },
  {
   "cell_type": "code",
   "execution_count": 10,
   "metadata": {},
   "outputs": [],
   "source": [
    "# Plot diagnostic learning curves\n",
    "def summarize_diagnostics(histories):\n",
    "    for i in range(len(histories)):\n",
    "        # plot loss\n",
    "        plt.subplot(211)\n",
    "        plt.title('Cross Entropy Loss')\n",
    "        plt.plot(histories[i].history['loss'], color = 'blue', label = 'train')\n",
    "        plt.plot(histories[i].history['val_loss'], color='orange', label='test')\n",
    "        # plot accuracy\n",
    "        plt.subplot(212)\n",
    "        plt.title('Classification Accuracy')\n",
    "        plt.plot(histories[i].history['acc'], color='blue', label='train')\n",
    "        plt.plot(histories[i].history['val_acc'], color='orange', label='test')\n",
    "    plt.show()"
   ]
  },
  {
   "cell_type": "markdown",
   "metadata": {},
   "source": [
    "The classification accuracy scores collected during each fold can be summarized by calculating the mean and standard deviation. This provides an estimate of the average expected performance of the model trained on this dataset, with an estimate of the average variance in the mean"
   ]
  },
  {
   "cell_type": "code",
   "execution_count": 11,
   "metadata": {},
   "outputs": [],
   "source": [
    "# Summarize model performance\n",
    "def summarize_performance(scores):\n",
    "    # print summary\n",
    "    print('Accuracy: mean=%.3f std=%.3f, n=%d' % (mean(scores)*100, std(scores)*100, len(scores)))\n",
    "    # box and whisker plots od results\n",
    "    plt.boxplot(scores)\n",
    "    plt.show()"
   ]
  },
  {
   "cell_type": "markdown",
   "metadata": {},
   "source": [
    "#### 3.6 Complete example"
   ]
  },
  {
   "cell_type": "code",
   "execution_count": 12,
   "metadata": {},
   "outputs": [],
   "source": [
    "# Run the test harness for evaluating a model\n",
    "def run_test_harness():\n",
    "    # load dataset\n",
    "    trainX, trainY, testX, testY = load_dataset()\n",
    "    # prepare pixel data\n",
    "    trainX, testX = prep_pixels(trainX, testX)\n",
    "    # define model\n",
    "    model = define_model()\n",
    "    # evaluate model\n",
    "    scores, histories = evaluate_model(model, trainX, trainY)\n",
    "    # learning curves\n",
    "    summarize_diagnostics(histories)\n",
    "    # summarize estimated performance\n",
    "    summarize_performance(scores)"
   ]
  },
  {
   "cell_type": "markdown",
   "metadata": {},
   "source": [
    "### 4) How to Develop an Improved Model "
   ]
  },
  {
   "cell_type": "markdown",
   "metadata": {},
   "source": [
    "#### 4.1 Modifying Learning Rate\n",
    "\n",
    "There are many aspects of the learning algorithm that can be explored for improvement.\n",
    "Perhaps the point of biggest leverage is the learning rate, such as evaluating the impact that smaller or larger values of the learning rate may have, as well as schedules that change the learning rate during training."
   ]
  },
  {
   "cell_type": "markdown",
   "metadata": {},
   "source": [
    "#### 4.2 Modifying Batch Normalization\n",
    "[Batch normalization](https://towardsdatascience.com/batch-normalization-in-neural-networks-1ac91516821c) can be used after convolutional and fully connected layers. It has the effect of changing the distribution of the output of the layer, specifically by standardizing the outputs. This has the effect of stabilizing and accelerating the learning process.  \n",
    "It is feasible to update the model definition to use batch normalization after the activation function for the convolutional and dense layers of the previous model."
   ]
  },
  {
   "cell_type": "code",
   "execution_count": 13,
   "metadata": {},
   "outputs": [],
   "source": [
    "def define_model_normalized():\n",
    "    model = Sequential()\n",
    "    model.add(Conv2D(32, (3, 3), activation='relu', kernel_initializer='he_uniform', input_shape=(28, 28, 1)))\n",
    "    model.add(BatchNormalization())\n",
    "    model.add(MaxPooling2D((2, 2)))\n",
    "    model.add(Flatten())\n",
    "    model.add(Dense(100, activation='relu', kernel_initializer='he_uniform'))\n",
    "    model.add(BatchNormalization())\n",
    "    model.add(Dense(10, activation='softmax'))\n",
    "    # compile model\n",
    "    opt = SGD(lr=0.01, momentum=0.9)\n",
    "    model.compile(optimizer=opt, loss='categorical_crossentropy', metrics=['accuracy'])\n",
    "    return model"
   ]
  },
  {
   "cell_type": "code",
   "execution_count": 14,
   "metadata": {},
   "outputs": [],
   "source": [
    "# Run the test harness for evaluating a model\n",
    "def run_test_harness_normalized():\n",
    "    # load dataset\n",
    "    trainX, trainY, testX, testY = load_dataset()\n",
    "    # prepare pixel data\n",
    "    trainX, testX = prep_pixels(trainX, testX)\n",
    "    # define model\n",
    "    model = define_model_normalized()\n",
    "    # evaluate model\n",
    "    scores, histories = evaluate_model(model, trainX, trainY)\n",
    "    # learning curves\n",
    "    summarize_diagnostics(histories)\n",
    "    # summarize estimated performance\n",
    "    summarize_performance(scores)"
   ]
  },
  {
   "cell_type": "markdown",
   "metadata": {},
   "source": [
    "### 5) How to Finalize the Model and Make Predictions\n",
    "#### 5.1 Save the model to file for later use\n",
    "A final model is typically fit on all available data, such as the combination of all train and test dataset. For this case we hold back a test dataset so that we can estimate the performance of the final model."
   ]
  },
  {
   "cell_type": "code",
   "execution_count": 16,
   "metadata": {},
   "outputs": [],
   "source": [
    "# Run the test harness for evaluating a model\n",
    "def run_test_harness_saving():\n",
    "    # load dataset\n",
    "    trainX, trainY, testX, testY = load_dataset()\n",
    "    # prepare pixel data\n",
    "    trainX, testX = prep_pixels(trainX, testX)\n",
    "    # define model\n",
    "    model = define_model_normalized()\n",
    "    # evaluate model\n",
    "    scores, histories = evaluate_model(model, trainX, trainY)\n",
    "    # learning curves\n",
    "    summarize_diagnostics(histories)\n",
    "    # summarize estimated performance\n",
    "    summarize_performance(scores)\n",
    "    # fit model\n",
    "    model.fit(trainX, trainY, epochs=10, batch_size=32, verbose=0)\n",
    "    # save model\n",
    "    model.save('final_model.h5')"
   ]
  },
  {
   "cell_type": "code",
   "execution_count": 17,
   "metadata": {},
   "outputs": [
    {
     "name": "stdout",
     "output_type": "stream",
     "text": [
      "WARNING:tensorflow:From C:\\Users\\Valentina\\Anaconda3\\lib\\site-packages\\tensorflow\\python\\framework\\op_def_library.py:263: colocate_with (from tensorflow.python.framework.ops) is deprecated and will be removed in a future version.\n",
      "Instructions for updating:\n",
      "Colocations handled automatically by placer.\n",
      "WARNING:tensorflow:From C:\\Users\\Valentina\\Anaconda3\\lib\\site-packages\\tensorflow\\python\\ops\\math_ops.py:3066: to_int32 (from tensorflow.python.ops.math_ops) is deprecated and will be removed in a future version.\n",
      "Instructions for updating:\n",
      "Use tf.cast instead.\n",
      "Train on 48000 samples, validate on 12000 samples\n",
      "Epoch 1/10\n",
      "48000/48000 [==============================] - 26s 536us/step - loss: 0.1400 - acc: 0.9577 - val_loss: 0.0712 - val_acc: 0.9791\n",
      "Epoch 2/10\n",
      "48000/48000 [==============================] - 25s 525us/step - loss: 0.0502 - acc: 0.9845 - val_loss: 0.0691 - val_acc: 0.9802\n",
      "Epoch 3/10\n",
      "48000/48000 [==============================] - 26s 542us/step - loss: 0.0300 - acc: 0.9907 - val_loss: 0.0589 - val_acc: 0.9824\n",
      "Epoch 4/10\n",
      "48000/48000 [==============================] - 26s 547us/step - loss: 0.0209 - acc: 0.9935 - val_loss: 0.0565 - val_acc: 0.9838\n",
      "Epoch 5/10\n",
      "48000/48000 [==============================] - 26s 549us/step - loss: 0.0141 - acc: 0.9957 - val_loss: 0.0584 - val_acc: 0.9834\n",
      "Epoch 6/10\n",
      "48000/48000 [==============================] - 26s 544us/step - loss: 0.0093 - acc: 0.9977 - val_loss: 0.0549 - val_acc: 0.9850\n",
      "Epoch 7/10\n",
      "48000/48000 [==============================] - 26s 544us/step - loss: 0.0068 - acc: 0.9985 - val_loss: 0.0541 - val_acc: 0.9860\n",
      "Epoch 8/10\n",
      "48000/48000 [==============================] - 26s 544us/step - loss: 0.0049 - acc: 0.9990 - val_loss: 0.0566 - val_acc: 0.9847\n",
      "Epoch 9/10\n",
      "48000/48000 [==============================] - 26s 545us/step - loss: 0.0041 - acc: 0.9992 - val_loss: 0.0540 - val_acc: 0.9858\n",
      "Epoch 10/10\n",
      "48000/48000 [==============================] - 26s 546us/step - loss: 0.0030 - acc: 0.9994 - val_loss: 0.0536 - val_acc: 0.9865\n",
      "12000/12000 [==============================] - 2s 197us/step\n",
      "> 98.650\n",
      "Train on 48000 samples, validate on 12000 samples\n",
      "Epoch 1/10\n",
      "48000/48000 [==============================] - 26s 552us/step - loss: 0.0268 - acc: 0.9927 - val_loss: 0.0084 - val_acc: 0.9982\n",
      "Epoch 2/10\n",
      "48000/48000 [==============================] - 27s 554us/step - loss: 0.0146 - acc: 0.9955 - val_loss: 0.0062 - val_acc: 0.9981\n",
      "Epoch 3/10\n",
      "48000/48000 [==============================] - 26s 547us/step - loss: 0.0071 - acc: 0.9983 - val_loss: 0.0059 - val_acc: 0.9989\n",
      "Epoch 4/10\n",
      "48000/48000 [==============================] - 26s 545us/step - loss: 0.0049 - acc: 0.9988 - val_loss: 0.0054 - val_acc: 0.9988\n",
      "Epoch 5/10\n",
      "48000/48000 [==============================] - 26s 549us/step - loss: 0.0034 - acc: 0.9993 - val_loss: 0.0057 - val_acc: 0.9989\n",
      "Epoch 6/10\n",
      "48000/48000 [==============================] - 26s 546us/step - loss: 0.0037 - acc: 0.9992 - val_loss: 0.0067 - val_acc: 0.9982\n",
      "Epoch 7/10\n",
      "48000/48000 [==============================] - 26s 545us/step - loss: 0.0024 - acc: 0.9997 - val_loss: 0.0045 - val_acc: 0.9988\n",
      "Epoch 8/10\n",
      "48000/48000 [==============================] - 26s 547us/step - loss: 0.0020 - acc: 0.9997 - val_loss: 0.0061 - val_acc: 0.9982\n",
      "Epoch 9/10\n",
      "48000/48000 [==============================] - 26s 543us/step - loss: 0.0019 - acc: 0.9998 - val_loss: 0.0061 - val_acc: 0.9982\n",
      "Epoch 10/10\n",
      "48000/48000 [==============================] - 26s 549us/step - loss: 0.0017 - acc: 0.9998 - val_loss: 0.0059 - val_acc: 0.9983\n",
      "12000/12000 [==============================] - 2s 200us/step\n",
      "> 99.833\n",
      "Train on 48000 samples, validate on 12000 samples\n",
      "Epoch 1/10\n",
      "48000/48000 [==============================] - 26s 549us/step - loss: 0.0050 - acc: 0.9985 - val_loss: 9.4205e-04 - val_acc: 0.9999\n",
      "Epoch 2/10\n",
      "48000/48000 [==============================] - 27s 561us/step - loss: 0.0034 - acc: 0.9991 - val_loss: 8.9905e-04 - val_acc: 0.9998\n",
      "Epoch 3/10\n",
      "48000/48000 [==============================] - 26s 541us/step - loss: 0.0030 - acc: 0.9993 - val_loss: 7.0340e-04 - val_acc: 1.0000\n",
      "Epoch 4/10\n",
      "48000/48000 [==============================] - 27s 563us/step - loss: 0.0024 - acc: 0.9995 - val_loss: 7.4538e-04 - val_acc: 0.9998\n",
      "Epoch 5/10\n",
      "48000/48000 [==============================] - 26s 551us/step - loss: 0.0019 - acc: 0.9997 - val_loss: 6.4835e-04 - val_acc: 0.9999\n",
      "Epoch 6/10\n",
      "48000/48000 [==============================] - 28s 582us/step - loss: 0.0017 - acc: 0.9997 - val_loss: 0.0023 - val_acc: 0.9996\n",
      "Epoch 7/10\n",
      "48000/48000 [==============================] - 28s 591us/step - loss: 0.0013 - acc: 0.9999 - val_loss: 6.9925e-04 - val_acc: 0.9999\n",
      "Epoch 8/10\n",
      "48000/48000 [==============================] - 26s 551us/step - loss: 0.0013 - acc: 0.9998 - val_loss: 7.5712e-04 - val_acc: 0.9998\n",
      "Epoch 9/10\n",
      "48000/48000 [==============================] - 26s 545us/step - loss: 0.0013 - acc: 0.9999 - val_loss: 6.8859e-04 - val_acc: 0.9998\n",
      "Epoch 10/10\n",
      "48000/48000 [==============================] - 26s 545us/step - loss: 0.0011 - acc: 0.9999 - val_loss: 5.0712e-04 - val_acc: 1.0000\n",
      "12000/12000 [==============================] - 2s 193us/step\n",
      "> 100.000\n",
      "Train on 48000 samples, validate on 12000 samples\n",
      "Epoch 1/10\n",
      "48000/48000 [==============================] - 26s 550us/step - loss: 0.0013 - acc: 0.9998 - val_loss: 2.1117e-04 - val_acc: 1.0000\n",
      "Epoch 2/10\n",
      "48000/48000 [==============================] - 26s 551us/step - loss: 0.0014 - acc: 0.9998 - val_loss: 9.4250e-05 - val_acc: 1.0000\n",
      "Epoch 3/10\n",
      "48000/48000 [==============================] - 26s 545us/step - loss: 0.0015 - acc: 0.9998 - val_loss: 1.3704e-04 - val_acc: 1.0000\n",
      "Epoch 4/10\n",
      "48000/48000 [==============================] - 26s 540us/step - loss: 0.0010 - acc: 0.9999 - val_loss: 8.6229e-05 - val_acc: 1.0000\n",
      "Epoch 5/10\n",
      "48000/48000 [==============================] - 26s 548us/step - loss: 9.9054e-04 - acc: 0.9999 - val_loss: 1.0497e-04 - val_acc: 1.0000\n",
      "Epoch 6/10\n",
      "48000/48000 [==============================] - 26s 544us/step - loss: 9.6837e-04 - acc: 0.9999 - val_loss: 1.1625e-04 - val_acc: 1.0000\n",
      "Epoch 7/10\n",
      "48000/48000 [==============================] - 26s 548us/step - loss: 0.0010 - acc: 0.9999 - val_loss: 1.1671e-04 - val_acc: 1.0000\n",
      "Epoch 8/10\n",
      "48000/48000 [==============================] - 26s 546us/step - loss: 0.0018 - acc: 0.9996 - val_loss: 5.5179e-04 - val_acc: 0.9999\n",
      "Epoch 9/10\n",
      "48000/48000 [==============================] - 26s 543us/step - loss: 0.0010 - acc: 0.9999 - val_loss: 1.7539e-04 - val_acc: 1.0000\n",
      "Epoch 10/10\n",
      "48000/48000 [==============================] - 26s 548us/step - loss: 8.9000e-04 - acc: 0.9999 - val_loss: 0.0012 - val_acc: 0.9996\n",
      "12000/12000 [==============================] - 2s 202us/step\n",
      "> 99.958\n",
      "Train on 48000 samples, validate on 12000 samples\n",
      "Epoch 1/10\n",
      "48000/48000 [==============================] - 26s 548us/step - loss: 0.0013 - acc: 0.9998 - val_loss: 0.0016 - val_acc: 0.9998\n",
      "Epoch 2/10\n",
      "48000/48000 [==============================] - 26s 552us/step - loss: 0.0011 - acc: 0.9998 - val_loss: 2.9641e-04 - val_acc: 0.9999\n",
      "Epoch 3/10\n",
      "48000/48000 [==============================] - 26s 543us/step - loss: 9.9154e-04 - acc: 0.9999 - val_loss: 3.0317e-04 - val_acc: 0.9999\n",
      "Epoch 4/10\n",
      "48000/48000 [==============================] - 26s 544us/step - loss: 0.0010 - acc: 0.9998 - val_loss: 2.2178e-04 - val_acc: 1.0000\n",
      "Epoch 5/10\n",
      "48000/48000 [==============================] - 26s 547us/step - loss: 0.0011 - acc: 0.9998 - val_loss: 1.9166e-04 - val_acc: 0.9999\n",
      "Epoch 6/10\n",
      "48000/48000 [==============================] - 26s 544us/step - loss: 8.5107e-04 - acc: 0.9999 - val_loss: 5.7913e-04 - val_acc: 0.9999\n",
      "Epoch 7/10\n",
      "48000/48000 [==============================] - 26s 548us/step - loss: 8.7939e-04 - acc: 0.9999 - val_loss: 6.3014e-04 - val_acc: 0.9999\n",
      "Epoch 8/10\n",
      "48000/48000 [==============================] - 26s 543us/step - loss: 7.7512e-04 - acc: 0.9999 - val_loss: 5.2172e-04 - val_acc: 0.9999\n",
      "Epoch 9/10\n",
      "48000/48000 [==============================] - 26s 546us/step - loss: 9.4068e-04 - acc: 0.9999 - val_loss: 3.5280e-04 - val_acc: 0.9998\n",
      "Epoch 10/10\n",
      "48000/48000 [==============================] - 26s 546us/step - loss: 9.3767e-04 - acc: 0.9999 - val_loss: 7.1482e-04 - val_acc: 0.9999\n"
     ]
    },
    {
     "name": "stdout",
     "output_type": "stream",
     "text": [
      "12000/12000 [==============================] - 2s 195us/step\n",
      "> 99.992\n"
     ]
    },
    {
     "name": "stderr",
     "output_type": "stream",
     "text": [
      "C:\\Users\\Valentina\\Anaconda3\\lib\\site-packages\\matplotlib\\figure.py:98: MatplotlibDeprecationWarning: \n",
      "Adding an axes using the same arguments as a previous axes currently reuses the earlier instance.  In a future version, a new instance will always be created and returned.  Meanwhile, this warning can be suppressed, and the future behavior ensured, by passing a unique label to each axes instance.\n",
      "  \"Adding an axes using the same arguments as a previous axes \"\n"
     ]
    },
    {
     "data": {
      "image/png": "[encoded data removed]",
      "text/plain": [
       "<Figure size 432x288 with 2 Axes>"
      ]
     },
     "metadata": {
      "needs_background": "light"
     },
     "output_type": "display_data"
    },
    {
     "name": "stdout",
     "output_type": "stream",
     "text": [
      "Accuracy: mean=99.687 std=0.522, n=5\n"
     ]
    },
    {
     "data": {
      "image/png": "[encoded data removed]",
      "text/plain": [
       "<Figure size 432x288 with 1 Axes>"
      ]
     },
     "metadata": {
      "needs_background": "light"
     },
     "output_type": "display_data"
    }
   ],
   "source": [
    "# entry point, run the test harness\n",
    "run_test_harness_saving()"
   ]
  },
  {
   "cell_type": "markdown",
   "metadata": {},
   "source": [
    "#### 5.2 Evaluate Final Model\n",
    "A final model is typically fit on all available data, such as the combination of all train and test dataset. For this case we hold back a test dataset so that we can estimate the performance of the final model."
   ]
  },
  {
   "cell_type": "code",
   "execution_count": 22,
   "metadata": {},
   "outputs": [],
   "source": [
    "# run the test harness for evaluating a model\n",
    "def run_test_harness_loading():\n",
    "    # load dataset\n",
    "    trainX, trainY, testX, testY = load_dataset()\n",
    "    # prepare pixel data\n",
    "    trainX, testX = prep_pixels(trainX, testX)\n",
    "    # load model\n",
    "    model = load_model('final_model.h5')\n",
    "    # evaluate model on test dataset\n",
    "    _, acc = model.evaluate(testX, testY, verbose=0)\n",
    "    print('> %.3f' % (acc * 100.0))"
   ]
  },
  {
   "cell_type": "code",
   "execution_count": 23,
   "metadata": {},
   "outputs": [
    {
     "name": "stdout",
     "output_type": "stream",
     "text": [
      "> 98.980\n"
     ]
    }
   ],
   "source": [
    "# entry point, run the test harness\n",
    "run_test_harness_loading()"
   ]
  },
  {
   "cell_type": "markdown",
   "metadata": {},
   "source": [
    "#### 5.3 Make prediction\n",
    "\n",
    "The model assumes that new images are grayscale, that they have been aligned so that one image contains one centered handwritten digit, and that the size of the image is square with the size 28x28"
   ]
  },
  {
   "cell_type": "code",
   "execution_count": 26,
   "metadata": {},
   "outputs": [],
   "source": [
    "# Make a prediction for a new image.\n",
    "from keras.preprocessing.image import load_img\n",
    "from keras.preprocessing.image import img_to_array\n",
    "from keras.models import load_model\n",
    "\n",
    "# load and prepare the image\n",
    "def load_image(filename):\n",
    "    # load the image\n",
    "    img = load_img(filename, color_mode='grayscale', target_size=(28, 28))\n",
    "    # convert to array\n",
    "    img = img_to_array(img)\n",
    "    # reshape into a single sample with 1 channel\n",
    "    img = img.reshape(1, 28, 28, 1)\n",
    "    # prepare pixel data\n",
    "    img = img.astype('float32')\n",
    "    img = img / 255.0\n",
    "    return img\n",
    "\n",
    "# load an image and predict the class\n",
    "def run_example():\n",
    "    # load the image\n",
    "    img = load_image('sample_image.png')\n",
    "    # load model\n",
    "    model = load_model('final_model.h5')\n",
    "    # predict the class\n",
    "    digit = model.predict_classes(img)\n",
    "    print(digit[0])"
   ]
  },
  {
   "cell_type": "code",
   "execution_count": 27,
   "metadata": {},
   "outputs": [
    {
     "name": "stdout",
     "output_type": "stream",
     "text": [
      "7\n"
     ]
    }
   ],
   "source": [
    "# entry point, run the example\n",
    "run_example()"
   ]
  },
  {
   "cell_type": "code",
   "execution_count": 35,
   "metadata": {},
   "outputs": [
    {
     "name": "stdout",
     "output_type": "stream",
     "text": [
      "1.13.1\n"
     ]
    }
   ],
   "source": [
    "import tensorflow as tf\n",
    "print(tf.__version__)"
   ]
  }
 ],
 "metadata": {
  "kernelspec": {
   "display_name": "Python 3",
   "language": "python",
   "name": "python3"
  },
  "language_info": {
   "codemirror_mode": {
    "name": "ipython",
    "version": 3
   },
   "file_extension": ".py",
   "mimetype": "text/x-python",
   "name": "python",
   "nbconvert_exporter": "python",
   "pygments_lexer": "ipython3",
   "version": "3.7.3"
  }
 },
 "nbformat": 4,
 "nbformat_minor": 2
}
